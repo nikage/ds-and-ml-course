{
 "cells": [
  {
   "cell_type": "code",
   "execution_count": 20,
   "metadata": {},
   "outputs": [],
   "source": [
    "import pandas as pd\n",
    "import matplotlib.pyplot as plt\n",
    "import numpy as np\n",
    "%matplotlib inline"
   ]
  },
  {
   "cell_type": "code",
   "execution_count": 9,
   "metadata": {},
   "outputs": [
    {
     "name": "stdout",
     "output_type": "stream",
     "text": [
      "ex1data1.csv                    linreg_height_weight.ipynb\r\n",
      "linear_regression-task1-2.ipynb weights_heights.csv\r\n"
     ]
    }
   ],
   "source": [
    "!ls "
   ]
  },
  {
   "cell_type": "code",
   "execution_count": 10,
   "metadata": {},
   "outputs": [],
   "source": [
    "data = pd.read_csv('ex1data1.csv')"
   ]
  },
  {
   "cell_type": "code",
   "execution_count": 11,
   "metadata": {},
   "outputs": [
    {
     "data": {
      "text/html": [
       "<div>\n",
       "<style scoped>\n",
       "    .dataframe tbody tr th:only-of-type {\n",
       "        vertical-align: middle;\n",
       "    }\n",
       "\n",
       "    .dataframe tbody tr th {\n",
       "        vertical-align: top;\n",
       "    }\n",
       "\n",
       "    .dataframe thead th {\n",
       "        text-align: right;\n",
       "    }\n",
       "</style>\n",
       "<table border=\"1\" class=\"dataframe\">\n",
       "  <thead>\n",
       "    <tr style=\"text-align: right;\">\n",
       "      <th></th>\n",
       "      <th>population</th>\n",
       "      <th>profit</th>\n",
       "    </tr>\n",
       "  </thead>\n",
       "  <tbody>\n",
       "    <tr>\n",
       "      <th>0</th>\n",
       "      <td>6.1101</td>\n",
       "      <td>17.5920</td>\n",
       "    </tr>\n",
       "    <tr>\n",
       "      <th>1</th>\n",
       "      <td>5.5277</td>\n",
       "      <td>9.1302</td>\n",
       "    </tr>\n",
       "    <tr>\n",
       "      <th>2</th>\n",
       "      <td>8.5186</td>\n",
       "      <td>13.6620</td>\n",
       "    </tr>\n",
       "    <tr>\n",
       "      <th>3</th>\n",
       "      <td>7.0032</td>\n",
       "      <td>11.8540</td>\n",
       "    </tr>\n",
       "    <tr>\n",
       "      <th>4</th>\n",
       "      <td>5.8598</td>\n",
       "      <td>6.8233</td>\n",
       "    </tr>\n",
       "  </tbody>\n",
       "</table>\n",
       "</div>"
      ],
      "text/plain": [
       "   population   profit\n",
       "0      6.1101  17.5920\n",
       "1      5.5277   9.1302\n",
       "2      8.5186  13.6620\n",
       "3      7.0032  11.8540\n",
       "4      5.8598   6.8233"
      ]
     },
     "execution_count": 11,
     "metadata": {},
     "output_type": "execute_result"
    }
   ],
   "source": [
    "data.head()"
   ]
  },
  {
   "cell_type": "code",
   "execution_count": 16,
   "metadata": {},
   "outputs": [
    {
     "data": {
      "text/plain": [
       "<matplotlib.axes._subplots.AxesSubplot at 0x11e0eec50>"
      ]
     },
     "execution_count": 16,
     "metadata": {},
     "output_type": "execute_result"
    },
    {
     "data": {
      "image/png": "[encoded data removed]",
      "text/plain": [
       "<Figure size 432x288 with 1 Axes>"
      ]
     },
     "metadata": {
      "needs_background": "light"
     },
     "output_type": "display_data"
    }
   ],
   "source": [
    "data.plot(x='population', y='profit', kind='scatter')"
   ]
  },
  {
   "cell_type": "code",
   "execution_count": 18,
   "metadata": {},
   "outputs": [
    {
     "data": {
      "text/html": [
       "<div>\n",
       "<style scoped>\n",
       "    .dataframe tbody tr th:only-of-type {\n",
       "        vertical-align: middle;\n",
       "    }\n",
       "\n",
       "    .dataframe tbody tr th {\n",
       "        vertical-align: top;\n",
       "    }\n",
       "\n",
       "    .dataframe thead th {\n",
       "        text-align: right;\n",
       "    }\n",
       "</style>\n",
       "<table border=\"1\" class=\"dataframe\">\n",
       "  <thead>\n",
       "    <tr style=\"text-align: right;\">\n",
       "      <th></th>\n",
       "      <th>population</th>\n",
       "      <th>profit</th>\n",
       "    </tr>\n",
       "  </thead>\n",
       "  <tbody>\n",
       "    <tr>\n",
       "      <th>count</th>\n",
       "      <td>97.000000</td>\n",
       "      <td>97.000000</td>\n",
       "    </tr>\n",
       "    <tr>\n",
       "      <th>mean</th>\n",
       "      <td>8.159800</td>\n",
       "      <td>5.839135</td>\n",
       "    </tr>\n",
       "    <tr>\n",
       "      <th>std</th>\n",
       "      <td>3.869884</td>\n",
       "      <td>5.510262</td>\n",
       "    </tr>\n",
       "    <tr>\n",
       "      <th>min</th>\n",
       "      <td>5.026900</td>\n",
       "      <td>-2.680700</td>\n",
       "    </tr>\n",
       "    <tr>\n",
       "      <th>25%</th>\n",
       "      <td>5.707700</td>\n",
       "      <td>1.986900</td>\n",
       "    </tr>\n",
       "    <tr>\n",
       "      <th>50%</th>\n",
       "      <td>6.589400</td>\n",
       "      <td>4.562300</td>\n",
       "    </tr>\n",
       "    <tr>\n",
       "      <th>75%</th>\n",
       "      <td>8.578100</td>\n",
       "      <td>7.046700</td>\n",
       "    </tr>\n",
       "    <tr>\n",
       "      <th>max</th>\n",
       "      <td>22.203000</td>\n",
       "      <td>24.147000</td>\n",
       "    </tr>\n",
       "  </tbody>\n",
       "</table>\n",
       "</div>"
      ],
      "text/plain": [
       "       population     profit\n",
       "count   97.000000  97.000000\n",
       "mean     8.159800   5.839135\n",
       "std      3.869884   5.510262\n",
       "min      5.026900  -2.680700\n",
       "25%      5.707700   1.986900\n",
       "50%      6.589400   4.562300\n",
       "75%      8.578100   7.046700\n",
       "max     22.203000  24.147000"
      ]
     },
     "execution_count": 18,
     "metadata": {},
     "output_type": "execute_result"
    }
   ],
   "source": [
    "data.describe()"
   ]
  },
  {
   "cell_type": "code",
   "execution_count": 21,
   "metadata": {},
   "outputs": [],
   "source": [
    "X = np.array(data['population'])\n",
    "Y = np.array(data['profit'])"
   ]
  },
  {
   "cell_type": "code",
   "execution_count": 24,
   "metadata": {},
   "outputs": [],
   "source": [
    "# scale\n",
    "means, stds = np.mean(X, axis=0), np.std(X, axis=0)\n",
    "X = (X - means)/stds"
   ]
  },
  {
   "cell_type": "code",
   "execution_count": 38,
   "metadata": {},
   "outputs": [],
   "source": [
    "n = np.shape(X)[0]\n",
    "X = np.reshape(X, (n, 1))"
   ]
  },
  {
   "cell_type": "code",
   "execution_count": 39,
   "metadata": {},
   "outputs": [],
   "source": [
    "ones = np.reshape(np.ones(n), (n, 1))\n",
    "\n",
    "X = np.hstack((X, ones))"
   ]
  },
  {
   "cell_type": "code",
   "execution_count": 40,
   "metadata": {},
   "outputs": [
    {
     "data": {
      "text/plain": [
       "array([[-0.53240565,  1.        ],\n",
       "       [-0.68368294,  1.        ],\n",
       "       [ 0.09319761,  1.        ],\n",
       "       [-0.30042464,  1.        ],\n",
       "       [-0.5974206 ,  1.        ],\n",
       "       [ 0.0579498 ,  1.        ],\n",
       "       [-0.17751184,  1.        ],\n",
       "       [ 0.10865262,  1.        ],\n",
       "       [-0.4347144 ,  1.        ],\n",
       "       [-0.80656976,  1.        ],\n",
       "       [-0.63614904,  1.        ],\n",
       "       [ 1.55957946,  1.        ],\n",
       "       [-0.63009691,  1.        ],\n",
       "       [ 0.06457337,  1.        ],\n",
       "       [-0.6543314 ,  1.        ],\n",
       "       [-0.72220358,  1.        ],\n",
       "       [-0.46609197,  1.        ],\n",
       "       [-0.78695878,  1.        ],\n",
       "       [-0.44941614,  1.        ],\n",
       "       [-0.28286567,  1.        ],\n",
       "       [-0.51188555,  1.        ],\n",
       "       [ 3.14560127,  1.        ],\n",
       "       [-0.69344947,  1.        ],\n",
       "       [-0.47630007,  1.        ],\n",
       "       [-0.67402031,  1.        ],\n",
       "       [ 2.80143506,  1.        ],\n",
       "       [ 1.21255602,  1.        ],\n",
       "       [ 0.72656735,  1.        ],\n",
       "       [ 1.30294835,  1.        ],\n",
       "       [ 3.64769432,  1.        ],\n",
       "       [-0.75519159,  1.        ],\n",
       "       [-0.40790839,  1.        ],\n",
       "       [ 0.28270982,  1.        ],\n",
       "       [-0.58910866,  1.        ],\n",
       "       [ 0.01332508,  1.        ],\n",
       "       [-0.05880697,  1.        ],\n",
       "       [-0.0165979 ,  1.        ],\n",
       "       [-0.66326674,  1.        ],\n",
       "       [ 1.214634  ,  1.        ],\n",
       "       [-0.46920894,  1.        ],\n",
       "       [-0.71506051,  1.        ],\n",
       "       [-0.33177623,  1.        ],\n",
       "       [ 0.92163816,  1.        ],\n",
       "       [-0.61978491,  1.        ],\n",
       "       [-0.08704158,  1.        ],\n",
       "       [-0.27707328,  1.        ],\n",
       "       [-0.80251769,  1.        ],\n",
       "       [-0.61258989,  1.        ],\n",
       "       [ 0.91956017,  1.        ],\n",
       "       [-0.68007244,  1.        ],\n",
       "       [-0.16093991,  1.        ],\n",
       "       [-0.74082752,  1.        ],\n",
       "       [-0.19114862,  1.        ],\n",
       "       [-0.14460176,  1.        ],\n",
       "       [-0.47455975,  1.        ],\n",
       "       [-0.46778033,  1.        ],\n",
       "       [-0.48978099,  1.        ],\n",
       "       [-0.65459115,  1.        ],\n",
       "       [ 0.2988142 ,  1.        ],\n",
       "       [ 0.33606207,  1.        ],\n",
       "       [ 0.17288833,  1.        ],\n",
       "       [-0.77417917,  1.        ],\n",
       "       [ 3.40768709,  1.        ],\n",
       "       [ 1.75283204,  1.        ],\n",
       "       [ 2.80507153,  1.        ],\n",
       "       [-0.2445788 ,  1.        ],\n",
       "       [ 0.03514392,  1.        ],\n",
       "       [ 0.53928898,  1.        ],\n",
       "       [-0.69103381,  1.        ],\n",
       "       [ 3.16404339,  1.        ],\n",
       "       [ 0.51331417,  1.        ],\n",
       "       [-0.2143701 ,  1.        ],\n",
       "       [-0.55939348,  1.        ],\n",
       "       [-0.24257874,  1.        ],\n",
       "       [-0.81376478,  1.        ],\n",
       "       [-0.41868794,  1.        ],\n",
       "       [-0.16135551,  1.        ],\n",
       "       [-0.8112712 ,  1.        ],\n",
       "       [ 0.5491594 ,  1.        ],\n",
       "       [-0.79277713,  1.        ],\n",
       "       [-0.6313437 ,  1.        ],\n",
       "       [-0.77181546,  1.        ],\n",
       "       [-0.46861152,  1.        ],\n",
       "       [ 0.4179087 ,  1.        ],\n",
       "       [-0.42699988,  1.        ],\n",
       "       [ 0.09283397,  1.        ],\n",
       "       [ 0.26504695,  1.        ],\n",
       "       [-0.56048442,  1.        ],\n",
       "       [-0.6855791 ,  1.        ],\n",
       "       [-0.80532297,  1.        ],\n",
       "       [-0.63692828,  1.        ],\n",
       "       [-0.1359002 ,  1.        ],\n",
       "       [-0.59458934,  1.        ],\n",
       "       [-0.74142494,  1.        ],\n",
       "       [ 0.03470234,  1.        ],\n",
       "       [ 1.35957343,  1.        ],\n",
       "       [-0.70726806,  1.        ]])"
      ]
     },
     "execution_count": 40,
     "metadata": {},
     "output_type": "execute_result"
    }
   ],
   "source": [
    "X"
   ]
  },
  {
   "cell_type": "code",
   "execution_count": 41,
   "metadata": {},
   "outputs": [],
   "source": [
    "def mse(y, y_pred):\n",
    "    return np.mean(np.square(y - y_pred))"
   ]
  },
  {
   "cell_type": "code",
   "execution_count": 42,
   "metadata": {},
   "outputs": [],
   "source": [
    "def linar_prediction(X, w):\n",
    "    return np.dot(X, w)"
   ]
  },
  {
   "cell_type": "code",
   "execution_count": null,
   "metadata": {},
   "outputs": [],
   "source": [
    "def gradient_descent(X, y, )"
   ]
  }
 ],
 "metadata": {
  "kernelspec": {
   "display_name": "Python 3",
   "language": "python",
   "name": "python3"
  },
  "language_info": {
   "codemirror_mode": {
    "name": "ipython",
    "version": 3
   },
   "file_extension": ".py",
   "mimetype": "text/x-python",
   "name": "python",
   "nbconvert_exporter": "python",
   "pygments_lexer": "ipython3",
   "version": "3.7.3"
  }
 },
 "nbformat": 4,
 "nbformat_minor": 2
}
